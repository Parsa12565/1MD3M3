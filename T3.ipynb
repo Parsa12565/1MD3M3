{
 "cells": [
  {
   "cell_type": "markdown",
   "metadata": {},
   "source": [
    "## Test 3 - COMPSCI 1MD3 - Fall 2020 \n",
    "### Instructor : Nicholas Moore\n",
    "\n",
    "## Maximum Grade: 36/32\n",
    "\n",
    "### Special Instructions - Please read\n",
    "\n",
    "* DO NOT RENAME THE ASSIGNMENT FILE (otherwise it might not be submitted or graded).\n",
    "* DO NOT USE FUNCTION NAMES OTHER THAN THOSE PROVIDED IN THE QUESTION (or you will get zero for the question).\n",
    "* DO NOT CHANGE THE THE NUMBER OF FUNCTION ARGUMENTS, USE THEM AS PROVIDED.\n",
    "* Validate your notebook before submitting\n",
    "* You must Submit the assignment from the assignments tab before the deadline.  Late submissions will not be accepted.  The only proof that your work was completed before the deadline is an on-time submission.\n",
    "* If you are having trouble with the server not responding, you are probably trying to execute and infinite loop.  To remedy this:\n",
    "    * click the stop button on the tool bar (proportional response), or\n",
    "    * go to \\\"Control Panel\\\" >> \\\"Stop My Server\\\" >> \\\"Start My Server\\\" (nuclear option).  Note that you will lose any unsaved work with this one.\n",
    " \n",
    "This test became available at 9:00am EST, Saturday October 31th, and must be submitted by 9:00am EST, Sunday November 1st.\n",
    "\n",
    "THERE IS NO GRACE PERIOD FOR TEST SUBMISSIONS.  YOU MUST SUBMIT BY THIS TIME OR YOU WILL GET ZERO.\n",
    "\n",
    "This is an open-book test, which means you are permitted to use reference material, such as wikipedia and the python documentation at python.org\n",
    "\n",
    "This is NOT a collaborative assessment.  These tests will be evaluated for plagiarism, and offenders will certainly be prosecuted.  Remember: never share your password, and never share your code! People who share their code are just as guilty of plagiarism as those who use it. \n",
    "\n",
    "If you have questions for myself or the TAs, please submit them to the Piazza.  Please do not share your solutions on Piazza (or any other website).  \n",
    "\n",
    "Good luck!  "
   ]
  },
  {
   "cell_type": "markdown",
   "metadata": {},
   "source": [
    "### Question 1: Meme Selector Pt (10 pts)\n",
    "\n",
    "Waluigi runs a meme page for COMPSCI 1MD3. In order to determine which memes to post on his page, he decides to show each post to his 3 friends, Dinky, Pinky, and Binky, who give ratings. Unfortunately, each of his friends live on a different planet and speak a different language. Dinky speaks in binary, Pinky in hexadecimal, and Binky in octal. However, Waluigi's translation device translates his friends' speech to decimal. Create a function `memify(d,p,b)` which takes 3 integers in decimal (base 10) which correspond to Dinky, Pinky, and Binky's translated ratings. Return True if the meme should be approved (at least 2 of Waluigi's friends approve of the meme), and False otherwise. \n",
    "\n",
    "Dinky approves of a meme if her rating in binary has an odd number of 0-bits, and disapproves otherwise. For example, if Dinky's rating is 10, her rating in binary is 1010, which contains an even number of 0-bits.\n",
    "\n",
    "Pinky approves of a meme if her opinion in hexadecimal is made of solely alternating alphabetical and numerical characters, and disapproves otherwise. For example, if her rating is 1535, her rating in base 16 is 5FF. This would be a dissapproval.  However,1595542332, which in hexadecimal is 0x5F1A0B3C, would be an approval, since the hexadecimal number alternates alphabetic and numeric characters.  \n",
    "\n",
    "Binky approves of a meme if his rating, converted to octal, has an even number of unique integer divisors between 1 and itself (inclusive). Note that Binky will never give a rating of 0. If Binky's rating is 32, Binky's rating in octal is 40, which has factors 1,2,4,5,8,10,20,40, or a total of 8, an even number of unique factors.\n",
    "\n",
    "Define a function `memify(d,p,b)` which takes 3 non-negative integers corresponding to Dinky, Pinky, and Binky's ratings.\n"
   ]
  },
  {
   "cell_type": "code",
   "execution_count": 38,
   "metadata": {
    "deletable": false,
    "nbgrader": {
     "cell_type": "code",
     "checksum": "34e8823aa903fbf79449cef32f00b9ca",
     "grade": false,
     "grade_id": "cell-12c24c6f500bd362",
     "locked": false,
     "schema_version": 3,
     "solution": true,
     "task": false
    }
   },
   "outputs": [],
   "source": [
    "def memify(d,p,b):\n",
    "    v=0\n",
    "    d=bin(d)[2:]\n",
    "    if(d.count('0')%2==1):\n",
    "        v+=1\n",
    "    p=hex(p)[2:]\n",
    "    n=\"0123456789\"\n",
    "    l=\"abcdef\"\n",
    "    if(p[0] in n):\n",
    "        for i in range(len(p)-1):\n",
    "            if(i%2==0 and p[i+1] in n):\n",
    "                break\n",
    "            elif(i%2==1 and p[i+1] in l):\n",
    "                break\n",
    "            if(i+2==len(p)):\n",
    "                v+=1\n",
    "    elif(p[0] in l):\n",
    "        for i in range(len(p)-1):\n",
    "            if(i%2==0 and p[i+1] in l):\n",
    "                break\n",
    "            elif(i%2==1 and p[i+1] in n):\n",
    "                break\n",
    "            if(i+2==len(p)):\n",
    "                v+=1\n",
    "    b=int(oct(b)[2:])\n",
    "    if(b**(1/2)//1!=b**(1/2)):\n",
    "        v+=1\n",
    "    if(v>=2):\n",
    "        return True\n",
    "    return False"
   ]
  },
  {
   "cell_type": "code",
   "execution_count": null,
   "metadata": {
    "deletable": false,
    "editable": false,
    "nbgrader": {
     "cell_type": "code",
     "checksum": "07229324b5222637b538f0d6b9eaa64a",
     "grade": true,
     "grade_id": "cell-25ee8356a92c6d67",
     "locked": true,
     "points": 0,
     "schema_version": 3,
     "solution": false,
     "task": false
    }
   },
   "outputs": [],
   "source": []
  },
  {
   "cell_type": "code",
   "execution_count": 39,
   "metadata": {},
   "outputs": [
    {
     "name": "stdout",
     "output_type": "stream",
     "text": [
      "Is my test case correct?\n",
      "True\n"
     ]
    }
   ],
   "source": [
    "print(\"Is my test case correct?\")\n",
    "print(memify(10,1535,32)==False)"
   ]
  },
  {
   "cell_type": "code",
   "execution_count": null,
   "metadata": {
    "deletable": false,
    "editable": false,
    "nbgrader": {
     "cell_type": "code",
     "checksum": "6c3ad6bfacb62b8c3b0f5245165c0b94",
     "grade": true,
     "grade_id": "cell-03e620996f09eb06",
     "locked": true,
     "points": 1,
     "schema_version": 3,
     "solution": false,
     "task": false
    }
   },
   "outputs": [],
   "source": []
  },
  {
   "cell_type": "code",
   "execution_count": null,
   "metadata": {
    "deletable": false,
    "editable": false,
    "nbgrader": {
     "cell_type": "code",
     "checksum": "905d3a5676f1ed31d68cc67589d4b841",
     "grade": true,
     "grade_id": "cell-e1056605cf2d5390",
     "locked": true,
     "points": 1,
     "schema_version": 3,
     "solution": false,
     "task": false
    }
   },
   "outputs": [],
   "source": []
  },
  {
   "cell_type": "code",
   "execution_count": null,
   "metadata": {
    "deletable": false,
    "editable": false,
    "nbgrader": {
     "cell_type": "code",
     "checksum": "dd92c1478b492be7409e39da423a5f13",
     "grade": true,
     "grade_id": "cell-995aca16d8ddc585",
     "locked": true,
     "points": 2,
     "schema_version": 3,
     "solution": false,
     "task": false
    }
   },
   "outputs": [],
   "source": []
  },
  {
   "cell_type": "code",
   "execution_count": null,
   "metadata": {
    "deletable": false,
    "editable": false,
    "nbgrader": {
     "cell_type": "code",
     "checksum": "0be7f0d77a4041fd29c775b2257d7c9b",
     "grade": true,
     "grade_id": "cell-3d4212b95a5aeffd",
     "locked": true,
     "points": 1,
     "schema_version": 3,
     "solution": false,
     "task": false
    }
   },
   "outputs": [],
   "source": []
  },
  {
   "cell_type": "code",
   "execution_count": null,
   "metadata": {
    "deletable": false,
    "editable": false,
    "nbgrader": {
     "cell_type": "code",
     "checksum": "6462b4ec46948197bfc8a55211175d2a",
     "grade": true,
     "grade_id": "cell-f9b8e9a2dda05df7",
     "locked": true,
     "points": 1,
     "schema_version": 3,
     "solution": false,
     "task": false
    }
   },
   "outputs": [],
   "source": []
  },
  {
   "cell_type": "code",
   "execution_count": null,
   "metadata": {
    "deletable": false,
    "editable": false,
    "nbgrader": {
     "cell_type": "code",
     "checksum": "b329a94e218b810264350d0c970e3671",
     "grade": true,
     "grade_id": "cell-010f27b2c3b7b6eb",
     "locked": true,
     "points": 2,
     "schema_version": 3,
     "solution": false,
     "task": false
    }
   },
   "outputs": [],
   "source": []
  },
  {
   "cell_type": "code",
   "execution_count": null,
   "metadata": {
    "deletable": false,
    "editable": false,
    "nbgrader": {
     "cell_type": "code",
     "checksum": "6dc50cc36023a897c4b343701b945feb",
     "grade": true,
     "grade_id": "cell-11d1e4483fefb096",
     "locked": true,
     "points": 1,
     "schema_version": 3,
     "solution": false,
     "task": false
    }
   },
   "outputs": [],
   "source": []
  },
  {
   "cell_type": "code",
   "execution_count": null,
   "metadata": {
    "deletable": false,
    "editable": false,
    "nbgrader": {
     "cell_type": "code",
     "checksum": "417340f3f8a4f7fc18b0913c80e0a22a",
     "grade": true,
     "grade_id": "cell-29cb5eece09f97fc",
     "locked": true,
     "points": 1,
     "schema_version": 3,
     "solution": false,
     "task": false
    }
   },
   "outputs": [],
   "source": []
  },
  {
   "cell_type": "markdown",
   "metadata": {},
   "source": [
    "## Question 2 : Grocery shopping (8 points)\n",
    "Mary is prepping for Masterchef Canada by cooking several different recipes. She has a json file with different recipes, containing the name of a good, and the steps and ingredients required to cook said food. Mary wants to cook the most complex recipes, in the least amount of time possible. As such, she wants to order her list going from the recipes with the most ingredients and steps to the ones that are simplest, requiring the least number of steps and/or ingredients. If 2 recipes have the same number of ingredients, the one with less steps should go after the one with more steps. If 2 recipes have the same number of ingredients, the recipe with the fewer number of characters making up the steps should go after the one with more. Lastly, make sure to not include any recipes with Mary's allergens in the final list.\n",
    "\n",
    "Write a function `cook()` which takes the file containing Mary's JSON info and an allergen, both as strings. This function would read the contents of the file and perform the steps above, and save the new file locally as \"maryCooks.json\". Make sure that the file you save overwrites any other file named `maryCooks.json`. If the file is not found due to an `IOError` with requesting the file, throw a custom `KitchenNightmare` error.\n",
    "\n",
    "BIG HINT: You know, I was pretty sure there was a library for handling json files..."
   ]
  },
  {
   "cell_type": "code",
   "execution_count": 190,
   "metadata": {
    "deletable": false,
    "nbgrader": {
     "cell_type": "code",
     "checksum": "0c30eedd4695b1b51821fa47327711d5",
     "grade": false,
     "grade_id": "cell-bfef1ca1b61ed66f",
     "locked": false,
     "schema_version": 3,
     "solution": true,
     "task": false
    }
   },
   "outputs": [],
   "source": [
    "import json\n",
    "\n",
    "class KitchenNightmare(Exception):\n",
    "    pass\n",
    "\n",
    "def cook(file,allergen):\n",
    "    try:\n",
    "        fh=open(file,'r')\n",
    "        s=fh.read()\n",
    "        fh.close()\n",
    "    except IOError:\n",
    "        raise KitchenNightmare\n",
    "    x=json.loads(s)\n",
    "    r=0\n",
    "    while(r<len(x)):\n",
    "        for i in x[r][\"ingredients\"]:\n",
    "            if(i[\"name\"]==allergen):\n",
    "                x=x[0:r]+x[r+1:len(x)]\n",
    "                r-=1\n",
    "        r+=1\n",
    "    for i in range(len(x))[::-1]:\n",
    "        for j in range(i):\n",
    "            if(len(x[j][\"ingredients\"])+len(x[j][\"steps\"])<len(x[j+1][\"ingredients\"])+len(x[j+1][\"steps\"])):\n",
    "                x[j],x[j+1]=x[j+1],x[j]\n",
    "            elif(len(x[j][\"ingredients\"])+len(x[j][\"steps\"])==len(x[j+1][\"ingredients\"])+len(x[j+1][\"steps\"])):\n",
    "                if(len(x[j][\"steps\"])<len(x[j+1][\"steps\"])):\n",
    "                    x[j],x[j+1]=x[j+1],x[j]\n",
    "                elif(len(x[j][\"steps\"])==len(x[j+1][\"steps\"])):\n",
    "                    c1=0\n",
    "                    for s in x[j][\"steps\"]:\n",
    "                        c1+=len(s)\n",
    "                    c2=0\n",
    "                    for s in x[j+1][\"steps\"]:\n",
    "                        c1+=len(s)\n",
    "                    if(c1<c2):\n",
    "                        x[j],x[j+1]=x[j+1],x[j]\n",
    "    with open(\"maryCooks.json\",'w') as fh:\n",
    "        s=json.dumps(x)\n",
    "        fh.write(s)"
   ]
  },
  {
   "cell_type": "code",
   "execution_count": 191,
   "metadata": {},
   "outputs": [
    {
     "name": "stdout",
     "output_type": "stream",
     "text": [
      "Does it match? Yes\n"
     ]
    }
   ],
   "source": [
    "# Run the function:\n",
    "cook(\"./recipes.json\", \"salt\")\n",
    "# Now check the files:\n",
    "with open('maryCooks.json', 'r') as output, open('maryCooks_allergen=salt.json', 'r') as answer:\n",
    "    data1 = json.load(output)\n",
    "    data2 = json.load(answer)\n",
    "    print(\"Does it match?\", \"Yes\" if data1 == data2 else \"No\")"
   ]
  },
  {
   "cell_type": "code",
   "execution_count": 193,
   "metadata": {},
   "outputs": [
    {
     "name": "stdout",
     "output_type": "stream",
     "text": [
      "Does it match? Yes\n"
     ]
    }
   ],
   "source": [
    "# Run the function:\n",
    "cook(\"./recipes.json\", \"flour\")\n",
    "# Now check the files:\n",
    "with open('maryCooks.json', 'r') as output, open('maryCooks_allergen=flour.json', 'r') as answer:\n",
    "    data1 = json.load(output)\n",
    "    data2 = json.load(answer)\n",
    "    print(\"Does it match?\", \"Yes\" if data1 == data2 else \"No\")"
   ]
  },
  {
   "cell_type": "code",
   "execution_count": null,
   "metadata": {
    "deletable": false,
    "editable": false,
    "nbgrader": {
     "cell_type": "code",
     "checksum": "c45bada5a3d6e55746eae0a3eda23cb3",
     "grade": true,
     "grade_id": "cell-da1b943ab07b8397",
     "locked": true,
     "points": 2,
     "schema_version": 3,
     "solution": false,
     "task": false
    }
   },
   "outputs": [],
   "source": []
  },
  {
   "cell_type": "code",
   "execution_count": null,
   "metadata": {
    "deletable": false,
    "editable": false,
    "nbgrader": {
     "cell_type": "code",
     "checksum": "0b3218549153c44b2a033e1c93a7c905",
     "grade": true,
     "grade_id": "cell-601f305b28db186e",
     "locked": true,
     "points": 2,
     "schema_version": 3,
     "solution": false,
     "task": false
    }
   },
   "outputs": [],
   "source": []
  },
  {
   "cell_type": "code",
   "execution_count": null,
   "metadata": {
    "deletable": false,
    "editable": false,
    "nbgrader": {
     "cell_type": "code",
     "checksum": "254e026ce0f358267d76badbd38f68a4",
     "grade": true,
     "grade_id": "cell-a5a98719d44920ee",
     "locked": true,
     "points": 2,
     "schema_version": 3,
     "solution": false,
     "task": false
    }
   },
   "outputs": [],
   "source": []
  },
  {
   "cell_type": "code",
   "execution_count": null,
   "metadata": {
    "deletable": false,
    "editable": false,
    "nbgrader": {
     "cell_type": "code",
     "checksum": "0afb610a2be163ac0a8f289fb09e1f99",
     "grade": true,
     "grade_id": "cell-abacb6de0b460769",
     "locked": true,
     "points": 2,
     "schema_version": 3,
     "solution": false,
     "task": false
    }
   },
   "outputs": [],
   "source": []
  },
  {
   "cell_type": "markdown",
   "metadata": {},
   "source": [
    "## Question 2 : Wizard Wars\n",
    "\n",
    "In this question, we will be designing a series of classes that implement elements of the spellcasting system from a popular tabel-top roleplaying game... You can probably guess which one.\n",
    "\n",
    "We will start at the low-level details, and work our way up to the high level ones, eventually making our way to a class for wizards which can use spells on each other.  \n",
    "\n",
    "For those of you who are already familiar with this spell system, we're going to be implementing a highly restricted set of features (we won't worry about, for example, prepared spells, range to target, and a bunch of other things.  )\n",
    "\n",
    "### Question 2 a) `SpellSlots`, (6 points)\n",
    "\n",
    "In said popular role-playing game, both wizards and spells have levels.  The number of spells a wizard may cast per day is limited by the level of the spell, and the level of the wizard.  A wizard may only cast a spell of each level a certain number of times, according to the following chart.\n",
    "\n",
    "| Wizard Level | Level 1 | Level 2 | Level 3 |\n",
    "| --- | --- | --- | --- |\n",
    "| 1 | 2 | 0 | 0 | \n",
    "| 2 | 3 | 0 | 0 |\n",
    "| 3 | 4 | 2 | 0 | \n",
    "| 4 | 4 | 3 | 0 |\n",
    "| 5 | 4 | 3 | 2 |\n",
    "\n",
    "So, a level 2 wizard may only cast 3 first-level spells per day, but a level 4 wizard may cast 4 first-level spells and 3 second-level spells per day.  \n",
    "\n",
    "Write a class in python, `SpellSlots`, which has the following attributes and methods:\n",
    "\n",
    "- The initializer should take self and the wizard's level as arguments, and create the following attributes:\n",
    "    - max -> a list containing the maximum number of spell slots a wizard of the given level.  The first element is the number of first level spell slots, the second the second, etc.  \n",
    "    - current -> a separate list that will keep track of the number of spell slots a wizard has remaining.  Upon initialization this is the same as max.  \n",
    "- isCastable - a method that takes as an argument the spell level of a spell to be cast, and returns whether the wizard has enough spell slots to cast it.  \n",
    "- cast - takes as an argument the spell level of a spell to be cast.  If the wizard has spell slots remaining at that level, subtract one.  In this way, we will simulate the wizard \"using\" one of his spell slots to cast a spell.  If there aren't enough spell slots to cast the spell, raise the custom `InsufficientSpells` exception."
   ]
  },
  {
   "cell_type": "code",
   "execution_count": 216,
   "metadata": {
    "deletable": false,
    "nbgrader": {
     "cell_type": "code",
     "checksum": "c69e3845b5c5ca4367f3865bac073d62",
     "grade": false,
     "grade_id": "cell-0c574368eb7340c0",
     "locked": false,
     "schema_version": 3,
     "solution": true,
     "task": false
    }
   },
   "outputs": [],
   "source": [
    "class InsufficientSpells(Exception):\n",
    "    pass\n",
    "\n",
    "class SpellSlots:\n",
    "    def __init__(self,wl):\n",
    "        table={1:[2,0,0],2:[3,0,0],3:[4,2,0],4:[4,3,0],5:[4,3,2]}\n",
    "        self.max=table[wl]\n",
    "        self.current=self.max\n",
    "    def isCastable(self,sl):\n",
    "        if(self.current[sl-1]>0):\n",
    "            return True\n",
    "        return False\n",
    "    def cast(self,sl):\n",
    "        if(self.current[sl-1]>0):\n",
    "            self.current[sl-1]-=1\n",
    "        else: raise InsufficientSpells"
   ]
  },
  {
   "cell_type": "code",
   "execution_count": 217,
   "metadata": {},
   "outputs": [],
   "source": [
    "slots = SpellSlots(5)\n",
    "slots.cast(3)\n",
    "slots.cast(3)\n",
    "assert(slots.isCastable(3) == False)"
   ]
  },
  {
   "cell_type": "code",
   "execution_count": null,
   "metadata": {
    "deletable": false,
    "editable": false,
    "nbgrader": {
     "cell_type": "code",
     "checksum": "10a01533c510343cb2dfa55043a7ee3b",
     "grade": true,
     "grade_id": "cell-3c9085064cde94dc",
     "locked": true,
     "points": 1,
     "schema_version": 3,
     "solution": false,
     "task": false
    }
   },
   "outputs": [],
   "source": []
  },
  {
   "cell_type": "code",
   "execution_count": null,
   "metadata": {
    "deletable": false,
    "editable": false,
    "nbgrader": {
     "cell_type": "code",
     "checksum": "cb0426fa0ed83ced018d54fcd7d5f52d",
     "grade": true,
     "grade_id": "cell-4c0dd9ca7640b861",
     "locked": true,
     "points": 2,
     "schema_version": 3,
     "solution": false,
     "task": false
    }
   },
   "outputs": [],
   "source": []
  },
  {
   "cell_type": "code",
   "execution_count": null,
   "metadata": {
    "deletable": false,
    "editable": false,
    "nbgrader": {
     "cell_type": "code",
     "checksum": "8853f16d8d5b7fd4b66edaad37f79af4",
     "grade": true,
     "grade_id": "cell-d1f7094ebacc4827",
     "locked": true,
     "points": 2,
     "schema_version": 3,
     "solution": false,
     "task": false
    }
   },
   "outputs": [],
   "source": []
  },
  {
   "cell_type": "code",
   "execution_count": null,
   "metadata": {
    "deletable": false,
    "editable": false,
    "nbgrader": {
     "cell_type": "code",
     "checksum": "2cd86aa69229ee8b55cb3c501bb7521f",
     "grade": true,
     "grade_id": "cell-4a941931999bdbda",
     "locked": true,
     "points": 1,
     "schema_version": 3,
     "solution": false,
     "task": false
    }
   },
   "outputs": [],
   "source": []
  },
  {
   "cell_type": "markdown",
   "metadata": {},
   "source": [
    "### Question 2b) `Spell`, `HealingSpell`, and `HarmingSpell` (8 points)\n",
    "\n",
    "Now that we have a class to manage spell slots, it would be nice to have some spells to go along with it! \n",
    "\n",
    "We are going to write three classes, `Spell`, `HealingSpell` and `HarmingSpell`.  Both `HealingSpell` and `HarmingSpell` will inherit from `Spell`\n",
    "\n",
    "For the `Spell` class, implement the following attributes and methods:\n",
    "\n",
    "- The initializer will take five arguments other than self, each of which initializes an attribute directly.\n",
    "    - name -> the name of the spell (string)\n",
    "    - level -> the spell's casting level (integer)\n",
    "    - school -> the school of magic the spell belongs to (string)\n",
    "    - casting_time -> the amount of time it takes to cast the spell (string)\n",
    "    - description -> a long string describing the spell's effect. (string)\n",
    "- cast -> a method taking self and another argument `target` (this will eventually be wizards, but don't worry about it for now.)  All `cast()` does is print the object.  \n",
    "- Overload the string conversion method for this class such that it returns all of the above attributes, in the order listed, all on separate lines, and appends two newline characters to the end.\n",
    "\n",
    "For the `HealingSpell` class, implement the following attributes and methods:\n",
    " \n",
    "- In addition to all the arguments taken by `Spell`, `HealingSpell` takes one more integer argument, `heal`, which is also directly initialized as an attribute of the class.  \n",
    "- cast -> a method taking self and another argument `target`.  When called, it calls the `cast` method defined in `Spell`, as well as increasing the `hp` attribute of `target` by the value of `heal`\n",
    "\n",
    "For the `HarmingSpell` class, implement the following attributes and methods:\n",
    " \n",
    "- In addition to all the arguments taken by `Spell`, `HarmingSpell` takes one more integer argument, `hurt`, which is also directly initialized as an attribute of the class.  \n",
    "- cast -> a method taking self and another argument `target`.  When called, it calls the `cast` method defined in `Spell`, as well as **decreasing** the `hp` attribute of `target` by the value of `hurt`\n"
   ]
  },
  {
   "cell_type": "code",
   "execution_count": 222,
   "metadata": {
    "deletable": false,
    "nbgrader": {
     "cell_type": "code",
     "checksum": "2013cb9654b067beac0a1dfb78522d1a",
     "grade": false,
     "grade_id": "cell-51c256b3f41c212d",
     "locked": false,
     "schema_version": 3,
     "solution": true,
     "task": false
    }
   },
   "outputs": [],
   "source": [
    "class Spell:\n",
    "    def __init__(self,n,l,s,c,d):\n",
    "        self.name=n\n",
    "        self.level=l\n",
    "        self.school=s\n",
    "        self.casting_time=c\n",
    "        self.description=d\n",
    "    def cast(self,target):\n",
    "        print(self)\n",
    "    def __str__(self):\n",
    "        return self.name+\"\\n\"+str(self.level)+\"\\n\"+self.school+\"\\n\"+self.casting_time+\"\\n\"+self.description+\"\\n\\n\"\n",
    "class HealingSpell(Spell):\n",
    "    def __init__(self,n,l,s,c,d,h):\n",
    "        Spell.__init__(self,n,l,s,c,d)\n",
    "        self.heal=h\n",
    "    def cast(self,t):\n",
    "        Spell.cast(self,t)\n",
    "        t.hp+=self.heal\n",
    "class HarmingSpell(Spell):\n",
    "    def __init__(self,n,l,s,c,d,h):\n",
    "        Spell.__init__(self,n,l,s,c,d)\n",
    "        self.hurt=h\n",
    "    def cast(self,t):\n",
    "        Spell.cast(self,t)\n",
    "        t.hp-=self.hurt"
   ]
  },
  {
   "cell_type": "code",
   "execution_count": 223,
   "metadata": {},
   "outputs": [
    {
     "name": "stdout",
     "output_type": "stream",
     "text": [
      "Healing Word\n",
      "1\n",
      "Evocation\n",
      "1 bonus action\n",
      "A creature of your choice that you can see within range regains hit points equal to 1d4 + your spellcasting modifier.  This spell has no effect on undead or constructs.\n",
      "\n",
      "\n"
     ]
    }
   ],
   "source": [
    "spellA = Spell(\"Healing Word\", 1, \"Evocation\", \"1 bonus action\", \"A creature of your choice that you can see within range regains hit points equal to 1d4 + your spellcasting modifier.  This spell has no effect on undead or constructs.\")\n",
    "\n",
    "spellA.cast(None)\n",
    "##### Output #####\n",
    "# Healing Word\n",
    "# 1\n",
    "# Evocation\n",
    "# 1 bonus action\n",
    "# A creature of your choice that you can see within range regains hit points equal to 1d4 + your spellcasting modifier.  This spell has no effect on undead or constructs.\n",
    "# \n",
    "# \n"
   ]
  },
  {
   "cell_type": "code",
   "execution_count": null,
   "metadata": {
    "deletable": false,
    "editable": false,
    "nbgrader": {
     "cell_type": "code",
     "checksum": "f57dfff01cf1b06709788580bc7ff564",
     "grade": true,
     "grade_id": "cell-7a408de524edb8fc",
     "locked": true,
     "points": 2,
     "schema_version": 3,
     "solution": false,
     "task": false
    }
   },
   "outputs": [],
   "source": []
  },
  {
   "cell_type": "code",
   "execution_count": null,
   "metadata": {
    "deletable": false,
    "editable": false,
    "nbgrader": {
     "cell_type": "code",
     "checksum": "293431f1576e85f580779745b1069d43",
     "grade": true,
     "grade_id": "cell-eb4be9750df9327c",
     "locked": true,
     "points": 2,
     "schema_version": 3,
     "solution": false,
     "task": false
    }
   },
   "outputs": [],
   "source": []
  },
  {
   "cell_type": "code",
   "execution_count": null,
   "metadata": {
    "deletable": false,
    "editable": false,
    "nbgrader": {
     "cell_type": "code",
     "checksum": "2a77e2e349e22f99c29a7a6f2539743d",
     "grade": true,
     "grade_id": "cell-b553787d6c77078d",
     "locked": true,
     "points": 2,
     "schema_version": 3,
     "solution": false,
     "task": false
    }
   },
   "outputs": [],
   "source": []
  },
  {
   "cell_type": "code",
   "execution_count": null,
   "metadata": {
    "deletable": false,
    "editable": false,
    "nbgrader": {
     "cell_type": "code",
     "checksum": "588a537becb853d50ba28b60f2f9be02",
     "grade": true,
     "grade_id": "cell-0ab1c620c01ef7c7",
     "locked": true,
     "points": 2,
     "schema_version": 3,
     "solution": false,
     "task": false
    }
   },
   "outputs": [],
   "source": []
  },
  {
   "cell_type": "markdown",
   "metadata": {},
   "source": [
    "### Bonus Question (3c) `Wizard` (4 bonus points)\n",
    "\n",
    "Now, we are finally ready to define some wizards!  \n",
    "\n",
    "Create a class in python, `Wizard`, with the following methods and attributes:\n",
    "\n",
    "- The initializor should take only one argument other than self, the wizard's level.  The class needs the following attributes:\n",
    "    - spellList -> A list of `Spell` objects which the Wizard knows and may cast.  Initialized as empty.\n",
    "    - hp -> \"health points\".  Initialized to 6 times the wizard's level.  \n",
    "    - level -> simply keeps track of the wizard's level\n",
    "    - spellSlots -> an object of the `SpellSlots` class, initialized using the wizard's level.  \n",
    "- cast -> takes self, spell name, and a target.  \n",
    "    - The spell name is a string that should match the name of one of the spells in the wizard's spell list.  If no spell with the specified name is found, `cast()` does nothing.  \n",
    "    - If a spell with the spell name specified is found, check the wizard's spell slots to see if the spell is castable.  If so, invoke the cast functions of both the `Spell` and `SpellSlot` objects, with the appropriate parameters.  \n",
    "    - In this question, `target` will always be an object of the `Wizard` class.  \n",
    "- longRest -> takes no arguments other than self.\n",
    "    - The currently used spell slots are reset to their maximums\n",
    "    - the Wizard's HP is restored to 6 times their level.  \n"
   ]
  },
  {
   "cell_type": "code",
   "execution_count": 224,
   "metadata": {
    "deletable": false,
    "nbgrader": {
     "cell_type": "code",
     "checksum": "68e4ff13a231c54874f2c9a8ef04f78b",
     "grade": false,
     "grade_id": "cell-d6f7273120f83113",
     "locked": false,
     "schema_version": 3,
     "solution": true,
     "task": false
    }
   },
   "outputs": [],
   "source": [
    "class Wizard:\n",
    "    def __init__(self,wl):\n",
    "        self.spellList=[]\n",
    "        self.hp=6*wl\n",
    "        self.level=wl\n",
    "        self.spellSlots=SpellSlots(wl)\n",
    "    def cast(self,sn,t):\n",
    "        for s in self.spellList:\n",
    "            if(s.name==sn):\n",
    "                if(self.spellSlots.isCastable(s.level)):\n",
    "                    s.cast(t)\n",
    "                    self.spellSlots.cast(s.level)\n",
    "                break\n",
    "    def longRest(self):\n",
    "        self.hp=self.level*6"
   ]
  },
  {
   "cell_type": "code",
   "execution_count": 225,
   "metadata": {},
   "outputs": [
    {
     "name": "stdout",
     "output_type": "stream",
     "text": [
      "Merlin ->  30\n",
      "Merlin's spell slots :  [4, 3, 2]\n",
      "Gandalf ->  18\n",
      "Gandalf's spell slots :  [4, 2, 0]\n",
      "Inflict Wounds\n",
      "1\n",
      "Necromancy\n",
      "1 action\n",
      "Make a melee spell attack against a creature you can reach.  On a hit, the target takes 3d10 necrotic damage\n",
      "\n",
      "\n",
      "Merlin ->  30\n",
      "Merlin's spell slots :  [3, 3, 2]\n",
      "Gandalf ->  3\n",
      "Gandalf's spell slots :  [4, 2, 0]\n",
      "Healing Word\n",
      "1\n",
      "Evocation\n",
      "1 bonus action\n",
      "A creature of your choice that you can see within range regains hit points equal to 1d4 + your spellcasting modifier.  This spell has no effect on undead or constructs.\n",
      "\n",
      "\n",
      "Merlin ->  30\n",
      "Merlin's spell slots :  [3, 3, 2]\n",
      "Gandalf ->  8\n",
      "Gandalf's spell slots :  [3, 2, 0]\n",
      "Dispel Magic\n",
      "3\n",
      "Abjuration\n",
      "1 action\n",
      "Choose one creature, object, or magical effect within range.  Any spell of 3rd level or lower on the target ends.  For each spell of 4th level or higher on the target, make an ability check using your spellcasting ability.  The DC equals 10 + the spell's level.  On a successful check, the spell ends.\n",
      "\n",
      "\n",
      "Merlin ->  30\n",
      "Merlin's spell slots :  [3, 3, 1]\n",
      "Gandalf ->  8\n",
      "Gandalf's spell slots :  [3, 2, 0]\n"
     ]
    }
   ],
   "source": [
    "spellA = HealingSpell(\"Healing Word\", 1, \"Evocation\", \"1 bonus action\", \"A creature of your choice that you can see within range regains hit points equal to 1d4 + your spellcasting modifier.  This spell has no effect on undead or constructs.\", 5)\n",
    "spellB = HarmingSpell(\"Inflict Wounds\", 1, \"Necromancy\", \"1 action\", \"Make a melee spell attack against a creature you can reach.  On a hit, the target takes 3d10 necrotic damage\", 15)\n",
    "spellC = Spell(\"Dispel Magic\", 3, \"Abjuration\", \"1 action\", \"Choose one creature, object, or magical effect within range.  Any spell of 3rd level or lower on the target ends.  For each spell of 4th level or higher on the target, make an ability check using your spellcasting ability.  The DC equals 10 + the spell's level.  On a successful check, the spell ends.\")\n",
    "\n",
    "Merlin = Wizard(5)\n",
    "Merlin.spellList = [ spellA, spellB, spellC ]\n",
    "\n",
    "Gandalf = Wizard(3) \n",
    "Gandalf.spellList = [spellA, spellB]\n",
    "\n",
    "print(\"Merlin -> \", Merlin.hp)\n",
    "print(\"Merlin's spell slots : \", Merlin.spellSlots.current)\n",
    "print(\"Gandalf -> \", Gandalf.hp)\n",
    "print(\"Gandalf's spell slots : \", Gandalf.spellSlots.current)\n",
    "\n",
    "Merlin.cast(\"Inflict Wounds\", Gandalf)\n",
    "\n",
    "print(\"Merlin -> \", Merlin.hp)\n",
    "print(\"Merlin's spell slots : \", Merlin.spellSlots.current)\n",
    "print(\"Gandalf -> \", Gandalf.hp)\n",
    "print(\"Gandalf's spell slots : \", Gandalf.spellSlots.current)\n",
    "\n",
    "Gandalf.cast(\"Healing Word\", Gandalf)\n",
    "\n",
    "print(\"Merlin -> \", Merlin.hp)\n",
    "print(\"Merlin's spell slots : \", Merlin.spellSlots.current)\n",
    "print(\"Gandalf -> \", Gandalf.hp)\n",
    "print(\"Gandalf's spell slots : \", Gandalf.spellSlots.current)\n",
    "\n",
    "Merlin.cast(\"Dispel Magic\", Gandalf)\n",
    "\n",
    "print(\"Merlin -> \", Merlin.hp)\n",
    "print(\"Merlin's spell slots : \", Merlin.spellSlots.current)\n",
    "print(\"Gandalf -> \", Gandalf.hp)\n",
    "print(\"Gandalf's spell slots : \", Gandalf.spellSlots.current)"
   ]
  },
  {
   "cell_type": "code",
   "execution_count": null,
   "metadata": {
    "deletable": false,
    "editable": false,
    "nbgrader": {
     "cell_type": "code",
     "checksum": "247484351464fba305274ff0391f6108",
     "grade": true,
     "grade_id": "cell-d7bc40489f822a4f",
     "locked": true,
     "points": 1,
     "schema_version": 3,
     "solution": false,
     "task": false
    }
   },
   "outputs": [],
   "source": []
  },
  {
   "cell_type": "code",
   "execution_count": null,
   "metadata": {
    "deletable": false,
    "editable": false,
    "nbgrader": {
     "cell_type": "code",
     "checksum": "00374c5f369b8aa06725d76e650c303a",
     "grade": true,
     "grade_id": "cell-95a414a77a5d4352",
     "locked": true,
     "points": 1,
     "schema_version": 3,
     "solution": false,
     "task": false
    }
   },
   "outputs": [],
   "source": []
  },
  {
   "cell_type": "code",
   "execution_count": null,
   "metadata": {
    "deletable": false,
    "editable": false,
    "nbgrader": {
     "cell_type": "code",
     "checksum": "c928234db57ad57123aef29e2d222df4",
     "grade": true,
     "grade_id": "cell-fc52edfc38e25b4d",
     "locked": true,
     "points": 1,
     "schema_version": 3,
     "solution": false,
     "task": false
    }
   },
   "outputs": [],
   "source": []
  },
  {
   "cell_type": "code",
   "execution_count": null,
   "metadata": {
    "deletable": false,
    "editable": false,
    "nbgrader": {
     "cell_type": "code",
     "checksum": "0c98ec2ade39d590b4fb2f06b5991820",
     "grade": true,
     "grade_id": "cell-527ded5013bdad2f",
     "locked": true,
     "points": 1,
     "schema_version": 3,
     "solution": false,
     "task": false
    }
   },
   "outputs": [],
   "source": []
  }
 ],
 "metadata": {
  "kernelspec": {
   "display_name": "Python 3",
   "language": "python",
   "name": "python3"
  },
  "language_info": {
   "codemirror_mode": {
    "name": "ipython",
    "version": 3
   },
   "file_extension": ".py",
   "mimetype": "text/x-python",
   "name": "python",
   "nbconvert_exporter": "python",
   "pygments_lexer": "ipython3",
   "version": "3.8.5"
  }
 },
 "nbformat": 4,
 "nbformat_minor": 4
}
